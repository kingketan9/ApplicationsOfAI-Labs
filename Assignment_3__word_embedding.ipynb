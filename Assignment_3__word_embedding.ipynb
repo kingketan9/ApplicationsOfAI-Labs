{
  "nbformat": 4,
  "nbformat_minor": 0,
  "metadata": {
    "colab": {
      "provenance": [],
      "include_colab_link": true
    },
    "kernelspec": {
      "name": "python3",
      "display_name": "Python 3"
    },
    "language_info": {
      "name": "python"
    },
    "accelerator": "GPU",
    "gpuClass": "standard"
  },
  "cells": [
    {
      "cell_type": "markdown",
      "metadata": {
        "id": "view-in-github",
        "colab_type": "text"
      },
      "source": [
        "<a href=\"https://colab.research.google.com/github/kingketan9/ApplicationsOfAI-Labs/blob/main/Assignment_3__word_embedding.ipynb\" target=\"_parent\"><img src=\"https://colab.research.google.com/assets/colab-badge.svg\" alt=\"Open In Colab\"/></a>"
      ]
    },
    {
      "cell_type": "markdown",
      "source": [
        "# **Go throught the following web page:** (Gensim Word2Vec Tutorial: An End-to-End Example)\n",
        "https://kavita-ganesan.com/gensim-word2vec-tutorial-starter-code/#.Y_SPja1By5c"
      ],
      "metadata": {
        "id": "__LHnDa6RRDt"
      }
    },
    {
      "cell_type": "markdown",
      "source": [
        "#**Task 1:** \n",
        "Apply W2Vec model on the following data set: https://www.kaggle.com/datasets/pankrzysiu/keras-imdb-reviews\n",
        "\n",
        "The following parameter settings should be considered.\n",
        "\n",
        "i) size=100-600, window=5-10, min_count=2-5, workers=10-20, iter=10-50"
      ],
      "metadata": {
        "id": "neyzNGMmU3_U"
      }
    },
    {
      "cell_type": "code",
      "source": [
        "import gzip\n",
        "import gensim\n",
        "\n",
        "data_file=r\"reviews_data(1).txt.gz\"\n",
        "\n",
        "with gzip.open ('reviews_data(1).txt.gz', 'rb') as f:\n",
        "    for i,line in enumerate (f):\n",
        "        print(line)\n",
        "        break"
      ],
      "metadata": {
        "colab": {
          "base_uri": "https://localhost:8080/"
        },
        "id": "7CkcM7M6c7FD",
        "outputId": "5f9afd57-198f-4635-acba-9d1d265c0ad8"
      },
      "execution_count": 1,
      "outputs": [
        {
          "output_type": "stream",
          "name": "stdout",
          "text": [
            "b\"Oct 12 2009 \\tNice trendy hotel location not too bad.\\tI stayed in this hotel for one night. As this is a fairly new place some of the taxi drivers did not know where it was and/or did not want to drive there. Once I have eventually arrived at the hotel, I was very pleasantly surprised with the decor of the lobby/ground floor area. It was very stylish and modern. I found the reception's staff geeting me with 'Aloha' a bit out of place, but I guess they are briefed to say that to keep up the coroporate image.As I have a Starwood Preferred Guest member, I was given a small gift upon-check in. It was only a couple of fridge magnets in a gift box, but nevertheless a nice gesture.My room was nice and roomy, there are tea and coffee facilities in each room and you get two complimentary bottles of water plus some toiletries by 'bliss'.The location is not great. It is at the last metro stop and you then need to take a taxi, but if you are not planning on going to see the historic sites in Beijing, then you will be ok.I chose to have some breakfast in the hotel, which was really tasty and there was a good selection of dishes. There are a couple of computers to use in the communal area, as well as a pool table. There is also a small swimming pool and a gym area.I would definitely stay in this hotel again, but only if I did not plan to travel to central Beijing, as it can take a long time. The location is ok if you plan to do a lot of shopping, as there is a big shopping centre just few minutes away from the hotel and there are plenty of eating options around, including restaurants that serve a dog meat!\\t\\r\\n\"\n"
          ]
        }
      ]
    },
    {
      "cell_type": "code",
      "source": [
        "def read_input(input_file):\n",
        "    with gzip.open (input_file, 'rb') as f:\n",
        "        for i, line in enumerate (f): \n",
        "            yield gensim.utils.simple_preprocess (line)\n",
        "\n",
        "documents = list (read_input (data_file))"
      ],
      "metadata": {
        "id": "Uh6WP_dydSrP"
      },
      "execution_count": null,
      "outputs": []
    },
    {
      "cell_type": "code",
      "source": [
        "model = gensim.models.Word2Vec(documents, size=200, window=5, min_count=2, workers=10)\n",
        "model.train(documents,total_examples=len(documents),epochs=10)"
      ],
      "metadata": {
        "id": "JvQiAyeHr28c"
      },
      "execution_count": null,
      "outputs": []
    },
    {
      "cell_type": "code",
      "source": [
        "model = gensim.models.Word2Vec(documents, size=150, window=10, min_count=2, workers=10)\n",
        "model.train(documents,total_examples=len(documents),epochs=10)"
      ],
      "metadata": {
        "id": "0fKzfxefr5o6"
      },
      "execution_count": null,
      "outputs": []
    },
    {
      "cell_type": "code",
      "source": [
        "model = gensim.models.Word2Vec(documents, size=200, window=5, min_count=2, workers=10)\n",
        "model.train(documents,total_examples=len(documents),epochs=10)"
      ],
      "metadata": {
        "id": "p1kg_qsKr7sU"
      },
      "execution_count": null,
      "outputs": []
    },
    {
      "cell_type": "code",
      "source": [
        "model = gensim.models.Word2Vec(documents, size=200, window=10, min_count=2, workers=10)\n",
        "model.train(documents,total_examples=len(documents),epochs=10)"
      ],
      "metadata": {
        "id": "0RiA1DTBr7Qy"
      },
      "execution_count": null,
      "outputs": []
    },
    {
      "cell_type": "code",
      "source": [
        "model = gensim.models.Word2Vec(documents, size=500, window=10, min_count=2, workers=10)\n",
        "model.train(documents,total_examples=len(documents),epochs=10)"
      ],
      "metadata": {
        "id": "FS84l8Tgr6qd"
      },
      "execution_count": null,
      "outputs": []
    },
    {
      "cell_type": "code",
      "source": [
        "model = gensim.models.Word2Vec(documents, size=500, window=5, min_count=2, workers=10)\n",
        "model.train(documents,total_examples=len(documents),epochs=10)"
      ],
      "metadata": {
        "id": "OiflBj7dspL-"
      },
      "execution_count": null,
      "outputs": []
    },
    {
      "cell_type": "code",
      "source": [
        "model = gensim.models.Word2Vec(documents, size=600, window=10, min_count=2, workers=10)\n",
        "model.train(documents,total_examples=len(documents),epochs=10)"
      ],
      "metadata": {
        "id": "oy84Qkv5r6Mz"
      },
      "execution_count": null,
      "outputs": []
    },
    {
      "cell_type": "code",
      "source": [
        "model = gensim.models.Word2Vec(documents, size=600, window=5, min_count=2, workers=10)\n",
        "model.train(documents,total_examples=len(documents),epochs=10)"
      ],
      "metadata": {
        "id": "bgrpYGMrsZy5"
      },
      "execution_count": null,
      "outputs": []
    },
    {
      "cell_type": "markdown",
      "source": [
        "#**Task 2:** \n",
        "Apply SG model on the same data set with same parameter settings."
      ],
      "metadata": {
        "id": "Huum8oFMWtZv"
      }
    },
    {
      "cell_type": "code",
      "source": [
        "import numpy as np\n",
        "from gensim.models import Word2Vec\n",
        "\n",
        "df = open('reviews_data(1).txt.gz', 'r')"
      ],
      "metadata": {
        "id": "u-HqOuUhfUgs"
      },
      "execution_count": 1,
      "outputs": []
    },
    {
      "cell_type": "code",
      "source": [
        "def read_input(input_file):\n",
        "    with gzip.open (input_file, 'rb') as f:\n",
        "        for i, line in enumerate (f): \n",
        "            yield gensim.utils.simple_preprocess (line)\n",
        "\n",
        "documents = list (read_input (data_file))"
      ],
      "metadata": {
        "id": "WYHG8IadfbpE"
      },
      "execution_count": 7,
      "outputs": []
    },
    {
      "cell_type": "code",
      "source": [
        "sg_model = gensim.models.Word2Vec(documents, size=200, window=5, min_count=2, workers=10, sg=1, iter=10)\n",
        "\n",
        "sg_model.save('sg_model1')"
      ],
      "metadata": {
        "id": "bHMJ26JpffKo"
      },
      "execution_count": 9,
      "outputs": []
    },
    {
      "cell_type": "code",
      "source": [
        "sg_model = gensim.models.Word2Vec(documents, size=200, window=10, min_count=2, workers=10, sg=1, iter=10)\n",
        "\n",
        "sg_model.save('sg_model2')"
      ],
      "metadata": {
        "id": "PI9xHalu-97O"
      },
      "execution_count": null,
      "outputs": []
    },
    {
      "cell_type": "code",
      "source": [
        "sg_model = gensim.models.Word2Vec(documents, size=400, window=5, min_count=2, workers=10, sg=1, iter=10)\n",
        "\n",
        "sg_model.save('sg_model3')"
      ],
      "metadata": {
        "id": "SH_ZI5u8--qD"
      },
      "execution_count": null,
      "outputs": []
    },
    {
      "cell_type": "code",
      "source": [
        "sg_model = gensim.models.Word2Vec(documents, size=400, window=10, min_count=2, workers=10, sg=1, iter=10)\n",
        "\n",
        "sg_model.save('sg_model4')"
      ],
      "metadata": {
        "id": "3V_NixK7-_Kj"
      },
      "execution_count": null,
      "outputs": []
    },
    {
      "cell_type": "code",
      "source": [
        "sg_model = gensim.models.Word2Vec(documents, size=600, window=5, min_count=2, workers=10, sg=1, iter=10)\n",
        "\n",
        "sg_model.save('sg_model5')"
      ],
      "metadata": {
        "id": "Jxop_vc--_4u"
      },
      "execution_count": null,
      "outputs": []
    },
    {
      "cell_type": "code",
      "source": [
        "sg_model = gensim.models.Word2Vec(documents, size=600, window=10, min_count=2, workers=10, sg=1, iter=10)\n",
        "\n",
        "sg_model.save('sg_model6')"
      ],
      "metadata": {
        "id": "wo6hRbme_A3l"
      },
      "execution_count": null,
      "outputs": []
    }
  ]
}