{
  "cells": [
    {
      "cell_type": "markdown",
      "metadata": {
        "id": "view-in-github",
        "colab_type": "text"
      },
      "source": [
        "<a href=\"https://colab.research.google.com/github/kingketan9/ApplicationsOfAI-Labs/blob/main/Ass3.ipynb\" target=\"_parent\"><img src=\"https://colab.research.google.com/assets/colab-badge.svg\" alt=\"Open In Colab\"/></a>"
      ]
    },
    {
      "cell_type": "markdown",
      "metadata": {
        "id": "mXbLlrMbKmzD"
      },
      "source": [
        "Task 1:\n",
        "\n",
        "Apply W2Vec model on the following data set: https://www.kaggle.com/datasets/pankrzysiu/keras-imdb-reviews\n",
        "\n",
        "The following parameter settings should be considered.\n",
        "\n",
        "i) size=100-600, window=5-10, min_count=2-5, workers=10-20, iter=10-50"
      ]
    },
    {
      "cell_type": "code",
      "execution_count": null,
      "metadata": {
        "id": "0zNDhsYCKmzK"
      },
      "outputs": [],
      "source": [
        "import gzip\n",
        "import gensim"
      ]
    },
    {
      "cell_type": "code",
      "execution_count": null,
      "metadata": {
        "id": "_EKWzwSfKmzN",
        "outputId": "08c2bccd-4448-421a-e988-51ef00edacc0"
      },
      "outputs": [
        {
          "name": "stdout",
          "output_type": "stream",
          "text": [
            "b\"Oct 12 2009 \\tNice trendy hotel location not too bad.\\tI stayed in this hotel for one night. As this is a fairly new place some of the taxi drivers did not know where it was and/or did not want to drive there. Once I have eventually arrived at the hotel, I was very pleasantly surprised with the decor of the lobby/ground floor area. It was very stylish and modern. I found the reception's staff geeting me with 'Aloha' a bit out of place, but I guess they are briefed to say that to keep up the coroporate image.As I have a Starwood Preferred Guest member, I was given a small gift upon-check in. It was only a couple of fridge magnets in a gift box, but nevertheless a nice gesture.My room was nice and roomy, there are tea and coffee facilities in each room and you get two complimentary bottles of water plus some toiletries by 'bliss'.The location is not great. It is at the last metro stop and you then need to take a taxi, but if you are not planning on going to see the historic sites in Beijing, then you will be ok.I chose to have some breakfast in the hotel, which was really tasty and there was a good selection of dishes. There are a couple of computers to use in the communal area, as well as a pool table. There is also a small swimming pool and a gym area.I would definitely stay in this hotel again, but only if I did not plan to travel to central Beijing, as it can take a long time. The location is ok if you plan to do a lot of shopping, as there is a big shopping centre just few minutes away from the hotel and there are plenty of eating options around, including restaurants that serve a dog meat!\\t\\r\\n\"\n"
          ]
        }
      ],
      "source": [
        "data_file=r\"reviews_data.txt.gz\"\n",
        "\n",
        "with gzip.open ('reviews_data.txt.gz', 'rb') as f:\n",
        "    for i,line in enumerate (f):\n",
        "        print(line)\n",
        "        break"
      ]
    },
    {
      "cell_type": "code",
      "execution_count": null,
      "metadata": {
        "id": "TG7jwdlzKmzQ"
      },
      "outputs": [],
      "source": [
        "def read_input(input_file):\n",
        "    with gzip.open (input_file, 'rb') as f:\n",
        "        for i, line in enumerate (f): \n",
        "            yield gensim.utils.simple_preprocess (line)\n",
        "\n",
        "documents = list (read_input (data_file))"
      ]
    },
    {
      "cell_type": "code",
      "execution_count": null,
      "metadata": {
        "id": "AkG6xzboKmzS",
        "outputId": "37666718-9c29-4ccb-e268-04e25d2d0f2c"
      },
      "outputs": [
        {
          "data": {
            "text/plain": [
              "(303495918, 415193590)"
            ]
          },
          "execution_count": 4,
          "metadata": {},
          "output_type": "execute_result"
        }
      ],
      "source": [
        "model = gensim.models.Word2Vec(documents, vector_size=200, window=10, min_count=2, workers=10)\n",
        "model.train(documents,total_examples=len(documents),epochs=10)"
      ]
    },
    {
      "cell_type": "code",
      "execution_count": null,
      "metadata": {
        "id": "B38a_oywKmzU",
        "outputId": "7414bebc-598b-4c1a-ca03-0fbc5d7a55ec"
      },
      "outputs": [
        {
          "data": {
            "text/plain": [
              "(303499790, 415193590)"
            ]
          },
          "execution_count": 6,
          "metadata": {},
          "output_type": "execute_result"
        }
      ],
      "source": [
        "model = gensim.models.Word2Vec(documents, vector_size=200, window=5, min_count=2, workers=10)\n",
        "model.train(documents,total_examples=len(documents),epochs=10)"
      ]
    },
    {
      "cell_type": "code",
      "execution_count": null,
      "metadata": {
        "id": "e33-wMXRKmzW",
        "outputId": "3242b909-d759-40fc-c1cd-0a0927d3834b"
      },
      "outputs": [
        {
          "data": {
            "text/plain": [
              "(303493998, 415193590)"
            ]
          },
          "execution_count": 5,
          "metadata": {},
          "output_type": "execute_result"
        }
      ],
      "source": [
        "model = gensim.models.Word2Vec(documents, vector_size=400, window=10, min_count=2, workers=10)\n",
        "model.train(documents,total_examples=len(documents),epochs=10)"
      ]
    },
    {
      "cell_type": "code",
      "execution_count": null,
      "metadata": {
        "id": "ra4sPgobKmzu",
        "outputId": "4c232929-b6bf-4b95-8cf7-e4af111233c6"
      },
      "outputs": [
        {
          "data": {
            "text/plain": [
              "(303496522, 415193590)"
            ]
          },
          "execution_count": 7,
          "metadata": {},
          "output_type": "execute_result"
        }
      ],
      "source": [
        "model = gensim.models.Word2Vec(documents, vector_size=400, window=5, min_count=2, workers=10)\n",
        "model.train(documents,total_examples=len(documents),epochs=10)"
      ]
    },
    {
      "cell_type": "code",
      "execution_count": null,
      "metadata": {
        "id": "O9hVANVMKmzx",
        "outputId": "eba66a35-e6aa-48cd-b4c6-68602363c2b9"
      },
      "outputs": [
        {
          "data": {
            "text/plain": [
              "(303491951, 415193590)"
            ]
          },
          "execution_count": 8,
          "metadata": {},
          "output_type": "execute_result"
        }
      ],
      "source": [
        "model = gensim.models.Word2Vec(documents, vector_size=600, window=10, min_count=2, workers=10)\n",
        "model.train(documents,total_examples=len(documents),epochs=10)"
      ]
    },
    {
      "cell_type": "code",
      "execution_count": null,
      "metadata": {
        "id": "BzvzZeSNKmz3",
        "outputId": "257c40c1-9883-4ab8-d035-43767da66481"
      },
      "outputs": [
        {
          "data": {
            "text/plain": [
              "(303495704, 415193590)"
            ]
          },
          "execution_count": 9,
          "metadata": {},
          "output_type": "execute_result"
        }
      ],
      "source": [
        "model = gensim.models.Word2Vec(documents, vector_size=600, window=5, min_count=2, workers=10)\n",
        "model.train(documents,total_examples=len(documents),epochs=10)"
      ]
    },
    {
      "cell_type": "markdown",
      "metadata": {
        "id": "9-EzjZgNKmz-"
      },
      "source": [
        "Task 2:\n",
        "Apply SG model on the same data set with same parameter settings."
      ]
    },
    {
      "cell_type": "code",
      "execution_count": null,
      "metadata": {
        "id": "mOnhESNFKm0C"
      },
      "outputs": [],
      "source": [
        "import numpy as np\n",
        "from gensim.models import Word2Vec\n",
        "\n",
        "df = open('reviews_data.txt.gz', 'r')"
      ]
    },
    {
      "cell_type": "code",
      "execution_count": null,
      "metadata": {
        "id": "569ac8IeKm0F"
      },
      "outputs": [],
      "source": [
        "def read_input(input_file):\n",
        "    with gzip.open (input_file, 'rb') as f:\n",
        "        for i, line in enumerate (f): \n",
        "            yield gensim.utils.simple_preprocess (line)\n",
        "\n",
        "documents = list (read_input (data_file))"
      ]
    },
    {
      "cell_type": "code",
      "execution_count": null,
      "metadata": {
        "id": "9lCAPOJeKm0G"
      },
      "outputs": [],
      "source": [
        "sg_model = gensim.models.Word2Vec(documents, vector_size=200, window=5, min_count=2, workers=10, sg=1)\n",
        "sg_model.train(documents,total_examples=len(documents),epochs=10)\n",
        "\n",
        "sg_model.save('sg_model1')"
      ]
    },
    {
      "cell_type": "code",
      "execution_count": null,
      "metadata": {
        "id": "PmKurx01Km0I"
      },
      "outputs": [],
      "source": [
        "sg_model = gensim.models.Word2Vec(documents, vector_size=200, window=10, min_count=2, workers=10, sg=1)\n",
        "sg_model.train(documents,total_examples=len(documents),epochs=10)\n",
        "\n",
        "sg_model.save('sg_model2')"
      ]
    },
    {
      "cell_type": "code",
      "execution_count": null,
      "metadata": {
        "id": "NE3xDxzAKm0K"
      },
      "outputs": [],
      "source": [
        "sg_model = gensim.models.Word2Vec(documents, vector_size=400, window=5, min_count=2, workers=10, sg=1)\n",
        "sg_model.train(documents,total_examples=len(documents),epochs=10)\n",
        "\n",
        "sg_model.save('sg_model3')"
      ]
    },
    {
      "cell_type": "code",
      "execution_count": null,
      "metadata": {
        "id": "AEIKSOUJKm0M"
      },
      "outputs": [],
      "source": [
        "sg_model = gensim.models.Word2Vec(documents, vector_size=400, window=10, min_count=2, workers=10, sg=1)\n",
        "sg_model.train(documents,total_examples=len(documents),epochs=10)\n",
        "\n",
        "sg_model.save('sg_model4')"
      ]
    },
    {
      "cell_type": "code",
      "execution_count": null,
      "metadata": {
        "id": "fb774oE1Km0P"
      },
      "outputs": [],
      "source": [
        "sg_model = gensim.models.Word2Vec(documents, vector_size=600, window=5, min_count=2, workers=10, sg=1)\n",
        "sg_model.train(documents,total_examples=len(documents),epochs=10)\n",
        "\n",
        "sg_model.save('sg_model5')"
      ]
    }
  ],
  "metadata": {
    "kernelspec": {
      "display_name": "Python 3",
      "language": "python",
      "name": "python3"
    },
    "language_info": {
      "codemirror_mode": {
        "name": "ipython",
        "version": 3
      },
      "file_extension": ".py",
      "mimetype": "text/x-python",
      "name": "python",
      "nbconvert_exporter": "python",
      "pygments_lexer": "ipython3",
      "version": "3.10.10"
    },
    "orig_nbformat": 4,
    "vscode": {
      "interpreter": {
        "hash": "152941219bc834674e61db401631ca941913449975c303fbb0077040427cd1f2"
      }
    },
    "colab": {
      "provenance": [],
      "include_colab_link": true
    }
  },
  "nbformat": 4,
  "nbformat_minor": 0
}